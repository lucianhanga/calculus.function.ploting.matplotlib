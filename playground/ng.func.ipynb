{
 "cells": [
  {
   "cell_type": "code",
   "execution_count": null,
   "metadata": {},
   "outputs": [],
   "source": [
    "%matplotlib ipympl\n",
    "\n",
    "# import the necessary packages\n",
    "import matplotlib.pyplot as plt\n",
    "import numpy as np\n",
    "from sympy.abc import x\n",
    "from sympy import *\n",
    "from IPython.display import Markdown as md"
   ]
  },
  {
   "cell_type": "code",
   "execution_count": null,
   "metadata": {},
   "outputs": [],
   "source": [
    "%%capture\n",
    "fig, ax = plt.subplots()\n",
    "\n",
    "ax.xaxis.set_ticks_position('bottom')  # set the position of the ticks to the bottom\n",
    "ax.set_xlabel('x', loc='right', color=\"red\")  # set the x-axis label\n",
    "ax.set_ylabel('y', loc='top', rotation='horizontal', color=\"red\")  # set the x-axis label\n",
    "ax.yaxis.set_ticks_position('left') \n",
    "ax.spines['left'].set_position('zero')  # set the position of the left spine to x=0, other values are 'center' and 'right'\n",
    "ax.spines['right'].set_color('none') \n",
    "ax.spines['bottom'].set_position('zero')  # set the position of the bottom spine to y=0, other values are 'center' and 'top'\n",
    "ax.spines['top'].set_color('none') \n"
   ]
  },
  {
   "cell_type": "code",
   "execution_count": null,
   "metadata": {},
   "outputs": [],
   "source": [
    "# define the function\n",
    "with(evaluate(False)):\n",
    "  f = 1/(x-2)+1\n",
    "md(\"The original function is: \\n\\\n",
    "   ### $f(x) = {}$\".format(latex(f)))"
   ]
  },
  {
   "cell_type": "code",
   "execution_count": null,
   "metadata": {},
   "outputs": [],
   "source": [
    "# simplify the function\n",
    "with(evaluate(True)):\n",
    "  fs = simplify(f)\n",
    "md(\"The simplified function is: \\n\\\n",
    "  ### $f(x) = {}$\".format(latex(fs)))"
   ]
  },
  {
   "cell_type": "code",
   "execution_count": null,
   "metadata": {},
   "outputs": [],
   "source": [
    "# lambdify the function\n",
    "fl = lambdify(x, fs)"
   ]
  },
  {
   "cell_type": "code",
   "execution_count": null,
   "metadata": {},
   "outputs": [],
   "source": [
    "# define the x values - will have about 1000 points\n",
    "domain = np.arange(-10, 10 + 0.1, 0.1) # take care always to include the end point!\n",
    "print(domain)"
   ]
  },
  {
   "cell_type": "code",
   "execution_count": null,
   "metadata": {},
   "outputs": [],
   "source": [
    "fl_x = fl(domain)\n",
    "print(fl_x)"
   ]
  },
  {
   "cell_type": "code",
   "execution_count": null,
   "metadata": {},
   "outputs": [],
   "source": [
    "# draw my curve \n",
    "ax.plot(domain, fl(domain)) "
   ]
  },
  {
   "cell_type": "code",
   "execution_count": null,
   "metadata": {},
   "outputs": [],
   "source": [
    "# find out the denominator\n",
    "denominator = fs.as_numer_denom()[1]\n",
    "md(\"The denominator is:\\n\\\n",
    "  ### $d(x) = {}$\\n\\\n",
    "  calculate the solution for the ecuation:\\n\\\n",
    "  ### $d(x)=0$\".format(latex(denominator)))"
   ]
  },
  {
   "cell_type": "code",
   "execution_count": null,
   "metadata": {},
   "outputs": [],
   "source": [
    "# find the vertical asymptotes by solving the denominator equal to zero equation\n",
    "roots = solve(denominator, x)\n",
    "md(\"The roots are is:\\n\\\n",
    "  ### $x = {}$\\n\\\n",
    "In these points are the vertical asymthotes\".format(latex(roots)))\n"
   ]
  },
  {
   "cell_type": "code",
   "execution_count": null,
   "metadata": {},
   "outputs": [],
   "source": [
    "\n",
    "for root in roots:\n",
    "    # check if root is a real number\n",
    "    if(not root.is_real):\n",
    "        continue\n",
    "    # clean under the aympototes\n",
    "    ax.plot([root,root],[-10,10],color='white', linewidth=5)\n",
    "    # plot the asymptotes\n",
    "    ax.plot([root,root],[-10,10],color='red',linestyle='dashed', linewidth=1)"
   ]
  },
  {
   "cell_type": "code",
   "execution_count": null,
   "metadata": {},
   "outputs": [],
   "source": [
    "# the horizontal asymptote\n",
    "\n",
    "# try to find the limit of the function at infinity\n",
    "l_plus_infinity = limit(fs, x, oo)\n",
    "## check for the type of the limit\n",
    "print(l_plus_infinity)\n",
    "if(l_plus_infinity == oo or l_plus_infinity == -oo):\n",
    "  print(\"The limit is positive or negative infinity, so the horizontal asymptote is y = +oo or y = -oo; NO need to plot it\")\n",
    "elif(l_plus_infinity == None):\n",
    "  print(\"The limit is not defined, no horizontal asymptote\")\n",
    "else:\n",
    "  print(\"The limit is a finite number, so the horizontal asymptote is y = {}\".format(l_plus_infinity))\n",
    "  plt.plot([-10,+10],[l_plus_infinity,l_plus_infinity],color='red',linestyle='dashed', linewidth=1)\n",
    "  \n",
    "# try to find the limit of the function at negative infinity   \n",
    "l_minus_infinity = limit(fs, x, -oo)\n",
    "print(l_minus_infinity)\n",
    "if(l_minus_infinity == oo or l_minus_infinity == -oo):\n",
    "  print(\"The limit is positive or negative infinity, so the horizontal asymptote is y = +oo or y = -oo; NO need to plot it\")\n",
    "elif(l_minus_infinity == None):\n",
    "  print(\"The limit is not defined, no horizontal asymptote\")  \n",
    "else:\n",
    "  print(\"The limit is a finite number, so the horizontal asymptote is y = {}\".format(l_minus_infinity))\n",
    "  plt.plot([-10,+10],[l_minus_infinity,l_minus_infinity],color='red',linestyle='dashed', linewidth=1)"
   ]
  },
  {
   "cell_type": "code",
   "execution_count": null,
   "metadata": {},
   "outputs": [],
   "source": [
    "ax.set_xbound(-10,10)\n",
    "ax.set_ybound(-10,10)\n",
    "\n",
    "fig"
   ]
  },
  {
   "cell_type": "code",
   "execution_count": null,
   "metadata": {},
   "outputs": [],
   "source": [
    "# delete the pdf if it exists\n",
    "!rm ng.func.pdf\n",
    "# generate the pdf\n",
    "# !jupyter nbconvert --to webpdf --disable-chromium-sandbox --template-file hidecode.j2 --allow-chromium-download ng.func.ipynb --output ng.func\n",
    "!jupyter nbconvert --to webpdf --disable-chromium-sandbox --allow-chromium-download ng.func.ipynb --output ng.func"
   ]
  }
 ],
 "metadata": {
  "kernelspec": {
   "display_name": "Python 3 (ipykernel)",
   "language": "python",
   "name": "python3"
  },
  "language_info": {
   "codemirror_mode": {
    "name": "ipython",
    "version": 3
   },
   "file_extension": ".py",
   "mimetype": "text/x-python",
   "name": "python",
   "nbconvert_exporter": "python",
   "pygments_lexer": "ipython3",
   "version": "3.10.6"
  },
  "orig_nbformat": 4
 },
 "nbformat": 4,
 "nbformat_minor": 2
}
