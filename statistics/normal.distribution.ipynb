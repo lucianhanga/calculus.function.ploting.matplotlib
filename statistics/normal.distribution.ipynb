{
 "cells": [
  {
   "cell_type": "markdown",
   "metadata": {},
   "source": [
    "<style>\n",
    "r { color: Red }\n",
    "o { color: Orange }\n",
    "g { color: Green }\n",
    "</style>\n",
    "# <r>Normal Distribution</r>\n",
    "\n",
    "### $$ f(x) = \\frac{1}{\\sigma \\sqrt{2 \\pi}} e^{-\\frac{(x - \\mu)^2}{2 \\sigma^2}} $$"
   ]
  },
  {
   "attachments": {},
   "cell_type": "markdown",
   "metadata": {},
   "source": [
    "## Introduction\n",
    "\n",
    "This notebook will present the **normal distribution** and its properties. \n",
    "\n",
    "- The normal distribution is a **continuous** probability distribution.\n",
    "- Is **symmetric** about the mean $\\mu$ \n",
    "- Showing that data **near** the mean  $\\mu$ are more **frequent** in occurrence than data **far** from the mean  $\\mu$. \n",
    " \n",
    "The normal distribution is important in statistics and is often used in the natural and social sciences to represent real-valued random variables whose distributions are not known."
   ]
  },
  {
   "cell_type": "code",
   "execution_count": null,
   "metadata": {},
   "outputs": [],
   "source": [
    "# import the python libraries requred for this project\n",
    "\n",
    "import numpy as np\n",
    "import pandas as pd\n",
    "import matplotlib.pyplot as plt\n",
    "from sympy import *\n",
    "from IPython.display import Markdown as md"
   ]
  },
  {
   "cell_type": "code",
   "execution_count": null,
   "metadata": {},
   "outputs": [],
   "source": [
    "# declare the variables and constants\n",
    "x = Symbol('x')\n",
    "sigma = Symbol('sigma')\n",
    "mu = Symbol('mu')\n"
   ]
  },
  {
   "cell_type": "code",
   "execution_count": null,
   "metadata": {},
   "outputs": [],
   "source": [
    "# define the function\n",
    "fStr = '1/(sigma*sqrt(2*pi))*exp(-1/2*((x-mu)/sigma)**2)'\n",
    "f = parse_expr(fStr, evaluate=False)\n",
    "md('$${}$$'.format(latex(f)))\n"
   ]
  },
  {
   "attachments": {},
   "cell_type": "markdown",
   "metadata": {},
   "source": [
    "## Load the data"
   ]
  },
  {
   "cell_type": "code",
   "execution_count": null,
   "metadata": {},
   "outputs": [],
   "source": [
    "rawData = pd.read_csv('./HeightWeight.csv')\n",
    "rawData.info()\n",
    "rawData.head()"
   ]
  },
  {
   "attachments": {},
   "cell_type": "markdown",
   "metadata": {},
   "source": [
    "## Isolate the Height column"
   ]
  },
  {
   "cell_type": "code",
   "execution_count": null,
   "metadata": {},
   "outputs": [],
   "source": [
    "dataHeight = rawData['Height']\n",
    "# reduce it to 1 dciential place\n",
    "dataHeight = dataHeight.round(1) # needed for 'mode' to work\n",
    "dataHeight.head()"
   ]
  },
  {
   "cell_type": "code",
   "execution_count": null,
   "metadata": {},
   "outputs": [],
   "source": [
    "mean = dataHeight.mean()\n",
    "median = dataHeight.median()\n",
    "mode = dataHeight.mode()[0]\n",
    "print('Mean: ', mean)\n",
    "print('Median: ', median)\n",
    "print('Mode: ', mode)"
   ]
  },
  {
   "attachments": {},
   "cell_type": "markdown",
   "metadata": {},
   "source": [
    "! The quartile are not calculated"
   ]
  },
  {
   "cell_type": "code",
   "execution_count": null,
   "metadata": {},
   "outputs": [],
   "source": [
    "d = pd.DataFrame([1,2,3,4,5,6])\n",
    "\n",
    "d.describe()"
   ]
  },
  {
   "cell_type": "code",
   "execution_count": null,
   "metadata": {},
   "outputs": [],
   "source": [
    "range = dataHeight.max() - dataHeight.min()\n",
    "print('Range: ', range)\n",
    "# qunatile function is calculated as follows: \n",
    "# q1 = dataHeight.quantile(0.25) \n",
    "# q3 = dataHeight.quantile(0.75)\n",
    "# \n",
    "iqr = dataHeight.quantile(0.75) - dataHeight.quantile(0.25)\n",
    "iqr = dataHeight.iqr()"
   ]
  }
 ],
 "metadata": {
  "kernelspec": {
   "display_name": "Python (venv)",
   "language": "python",
   "name": "venv"
  },
  "language_info": {
   "codemirror_mode": {
    "name": "ipython",
    "version": 3
   },
   "file_extension": ".py",
   "mimetype": "text/x-python",
   "name": "python",
   "nbconvert_exporter": "python",
   "pygments_lexer": "ipython3",
   "version": "3.12.3"
  },
  "orig_nbformat": 4
 },
 "nbformat": 4,
 "nbformat_minor": 2
}
