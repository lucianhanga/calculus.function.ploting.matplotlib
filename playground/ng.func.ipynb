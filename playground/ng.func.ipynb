{
 "cells": [
  {
   "cell_type": "code",
   "execution_count": 1,
   "metadata": {},
   "outputs": [],
   "source": [
    "%matplotlib ipympl\n",
    "\n",
    "# import the necessary packages\n",
    "import matplotlib.pyplot as plt\n",
    "import numpy as np\n",
    "from sympy.abc import x\n",
    "from sympy import *\n",
    "from IPython.display import Markdown as md"
   ]
  },
  {
   "cell_type": "code",
   "execution_count": 2,
   "metadata": {},
   "outputs": [
    {
     "data": {
      "text/markdown": [
       "test"
      ],
      "text/plain": [
       "<IPython.core.display.Markdown object>"
      ]
     },
     "execution_count": 2,
     "metadata": {},
     "output_type": "execute_result"
    }
   ],
   "source": [
    "md(\"test\")"
   ]
  },
  {
   "cell_type": "code",
   "execution_count": 3,
   "metadata": {},
   "outputs": [],
   "source": [
    "%%capture\n",
    "fig, ax = plt.subplots()\n",
    "\n",
    "ax.xaxis.set_ticks_position('bottom')  # set the position of the ticks to the bottom\n",
    "ax.set_xlabel('x', loc='right', color=\"red\")  # set the x-axis label\n",
    "ax.set_ylabel('y', loc='top', rotation='horizontal', color=\"red\")  # set the x-axis label\n",
    "ax.yaxis.set_ticks_position('left') \n",
    "ax.spines['left'].set_position('zero')  # set the position of the left spine to x=0, other values are 'center' and 'right'\n",
    "ax.spines['right'].set_color('none') \n",
    "ax.spines['bottom'].set_position('zero')  # set the position of the bottom spine to y=0, other values are 'center' and 'top'\n",
    "ax.spines['top'].set_color('none') \n"
   ]
  },
  {
   "cell_type": "code",
   "execution_count": 4,
   "metadata": {},
   "outputs": [
    {
     "data": {
      "text/markdown": [
       "test 2"
      ],
      "text/plain": [
       "<IPython.core.display.Markdown object>"
      ]
     },
     "execution_count": 4,
     "metadata": {},
     "output_type": "execute_result"
    }
   ],
   "source": [
    "md(\"test 2\")\n"
   ]
  },
  {
   "cell_type": "code",
   "execution_count": 5,
   "metadata": {},
   "outputs": [
    {
     "data": {
      "text/markdown": [
       "The original function is: \n",
       "   ### $f(x) = \\frac{x + 1}{\\left(x + 1\\right)^{2}}$"
      ],
      "text/plain": [
       "<IPython.core.display.Markdown object>"
      ]
     },
     "execution_count": 5,
     "metadata": {},
     "output_type": "execute_result"
    }
   ],
   "source": [
    "# define the function\n",
    "with(evaluate(False)):\n",
    "  f = (x+1)/(x+1)**2\n",
    "md(\"The original function is: \\n\\\n",
    "   ### $f(x) = {}$\".format(latex(f)))"
   ]
  },
  {
   "cell_type": "code",
   "execution_count": 6,
   "metadata": {},
   "outputs": [
    {
     "data": {
      "text/markdown": [
       "The simplified function is: \n",
       "  ### $f(x) = \\frac{1}{x + 1}$"
      ],
      "text/plain": [
       "<IPython.core.display.Markdown object>"
      ]
     },
     "execution_count": 6,
     "metadata": {},
     "output_type": "execute_result"
    }
   ],
   "source": [
    "# simplify the function\n",
    "with(evaluate(True)):\n",
    "  fs = simplify(f)\n",
    "md(\"The simplified function is: \\n\\\n",
    "  ### $f(x) = {}$\".format(latex(fs)))"
   ]
  },
  {
   "cell_type": "code",
   "execution_count": 7,
   "metadata": {},
   "outputs": [],
   "source": [
    "# lambdify the function\n",
    "fl = lambdify(x, fs)"
   ]
  },
  {
   "cell_type": "code",
   "execution_count": 8,
   "metadata": {},
   "outputs": [
    {
     "name": "stdout",
     "output_type": "stream",
     "text": [
      "[-1.00000000e+01 -9.90000000e+00 -9.80000000e+00 -9.70000000e+00\n",
      " -9.60000000e+00 -9.50000000e+00 -9.40000000e+00 -9.30000000e+00\n",
      " -9.20000000e+00 -9.10000000e+00 -9.00000000e+00 -8.90000000e+00\n",
      " -8.80000000e+00 -8.70000000e+00 -8.60000000e+00 -8.50000000e+00\n",
      " -8.40000000e+00 -8.30000000e+00 -8.20000000e+00 -8.10000000e+00\n",
      " -8.00000000e+00 -7.90000000e+00 -7.80000000e+00 -7.70000000e+00\n",
      " -7.60000000e+00 -7.50000000e+00 -7.40000000e+00 -7.30000000e+00\n",
      " -7.20000000e+00 -7.10000000e+00 -7.00000000e+00 -6.90000000e+00\n",
      " -6.80000000e+00 -6.70000000e+00 -6.60000000e+00 -6.50000000e+00\n",
      " -6.40000000e+00 -6.30000000e+00 -6.20000000e+00 -6.10000000e+00\n",
      " -6.00000000e+00 -5.90000000e+00 -5.80000000e+00 -5.70000000e+00\n",
      " -5.60000000e+00 -5.50000000e+00 -5.40000000e+00 -5.30000000e+00\n",
      " -5.20000000e+00 -5.10000000e+00 -5.00000000e+00 -4.90000000e+00\n",
      " -4.80000000e+00 -4.70000000e+00 -4.60000000e+00 -4.50000000e+00\n",
      " -4.40000000e+00 -4.30000000e+00 -4.20000000e+00 -4.10000000e+00\n",
      " -4.00000000e+00 -3.90000000e+00 -3.80000000e+00 -3.70000000e+00\n",
      " -3.60000000e+00 -3.50000000e+00 -3.40000000e+00 -3.30000000e+00\n",
      " -3.20000000e+00 -3.10000000e+00 -3.00000000e+00 -2.90000000e+00\n",
      " -2.80000000e+00 -2.70000000e+00 -2.60000000e+00 -2.50000000e+00\n",
      " -2.40000000e+00 -2.30000000e+00 -2.20000000e+00 -2.10000000e+00\n",
      " -2.00000000e+00 -1.90000000e+00 -1.80000000e+00 -1.70000000e+00\n",
      " -1.60000000e+00 -1.50000000e+00 -1.40000000e+00 -1.30000000e+00\n",
      " -1.20000000e+00 -1.10000000e+00 -1.00000000e+00 -9.00000000e-01\n",
      " -8.00000000e-01 -7.00000000e-01 -6.00000000e-01 -5.00000000e-01\n",
      " -4.00000000e-01 -3.00000000e-01 -2.00000000e-01 -1.00000000e-01\n",
      " -3.55271368e-14  1.00000000e-01  2.00000000e-01  3.00000000e-01\n",
      "  4.00000000e-01  5.00000000e-01  6.00000000e-01  7.00000000e-01\n",
      "  8.00000000e-01  9.00000000e-01  1.00000000e+00  1.10000000e+00\n",
      "  1.20000000e+00  1.30000000e+00  1.40000000e+00  1.50000000e+00\n",
      "  1.60000000e+00  1.70000000e+00  1.80000000e+00  1.90000000e+00\n",
      "  2.00000000e+00  2.10000000e+00  2.20000000e+00  2.30000000e+00\n",
      "  2.40000000e+00  2.50000000e+00  2.60000000e+00  2.70000000e+00\n",
      "  2.80000000e+00  2.90000000e+00  3.00000000e+00  3.10000000e+00\n",
      "  3.20000000e+00  3.30000000e+00  3.40000000e+00  3.50000000e+00\n",
      "  3.60000000e+00  3.70000000e+00  3.80000000e+00  3.90000000e+00\n",
      "  4.00000000e+00  4.10000000e+00  4.20000000e+00  4.30000000e+00\n",
      "  4.40000000e+00  4.50000000e+00  4.60000000e+00  4.70000000e+00\n",
      "  4.80000000e+00  4.90000000e+00  5.00000000e+00  5.10000000e+00\n",
      "  5.20000000e+00  5.30000000e+00  5.40000000e+00  5.50000000e+00\n",
      "  5.60000000e+00  5.70000000e+00  5.80000000e+00  5.90000000e+00\n",
      "  6.00000000e+00  6.10000000e+00  6.20000000e+00  6.30000000e+00\n",
      "  6.40000000e+00  6.50000000e+00  6.60000000e+00  6.70000000e+00\n",
      "  6.80000000e+00  6.90000000e+00  7.00000000e+00  7.10000000e+00\n",
      "  7.20000000e+00  7.30000000e+00  7.40000000e+00  7.50000000e+00\n",
      "  7.60000000e+00  7.70000000e+00  7.80000000e+00  7.90000000e+00\n",
      "  8.00000000e+00  8.10000000e+00  8.20000000e+00  8.30000000e+00\n",
      "  8.40000000e+00  8.50000000e+00  8.60000000e+00  8.70000000e+00\n",
      "  8.80000000e+00  8.90000000e+00  9.00000000e+00  9.10000000e+00\n",
      "  9.20000000e+00  9.30000000e+00  9.40000000e+00  9.50000000e+00\n",
      "  9.60000000e+00  9.70000000e+00  9.80000000e+00  9.90000000e+00\n",
      "  1.00000000e+01]\n"
     ]
    }
   ],
   "source": [
    "# define the x values - will have about 1000 points\n",
    "domain = np.arange(-10, 10 + 0.01, 0.1) # take care always to include the end point!\n",
    "print(domain)"
   ]
  },
  {
   "cell_type": "code",
   "execution_count": 9,
   "metadata": {},
   "outputs": [
    {
     "name": "stdout",
     "output_type": "stream",
     "text": [
      "[-1.11111111e-01 -1.12359551e-01 -1.13636364e-01 -1.14942529e-01\n",
      " -1.16279070e-01 -1.17647059e-01 -1.19047619e-01 -1.20481928e-01\n",
      " -1.21951220e-01 -1.23456790e-01 -1.25000000e-01 -1.26582278e-01\n",
      " -1.28205128e-01 -1.29870130e-01 -1.31578947e-01 -1.33333333e-01\n",
      " -1.35135135e-01 -1.36986301e-01 -1.38888889e-01 -1.40845070e-01\n",
      " -1.42857143e-01 -1.44927536e-01 -1.47058824e-01 -1.49253731e-01\n",
      " -1.51515152e-01 -1.53846154e-01 -1.56250000e-01 -1.58730159e-01\n",
      " -1.61290323e-01 -1.63934426e-01 -1.66666667e-01 -1.69491525e-01\n",
      " -1.72413793e-01 -1.75438596e-01 -1.78571429e-01 -1.81818182e-01\n",
      " -1.85185185e-01 -1.88679245e-01 -1.92307692e-01 -1.96078431e-01\n",
      " -2.00000000e-01 -2.04081633e-01 -2.08333333e-01 -2.12765957e-01\n",
      " -2.17391304e-01 -2.22222222e-01 -2.27272727e-01 -2.32558140e-01\n",
      " -2.38095238e-01 -2.43902439e-01 -2.50000000e-01 -2.56410256e-01\n",
      " -2.63157895e-01 -2.70270270e-01 -2.77777778e-01 -2.85714286e-01\n",
      " -2.94117647e-01 -3.03030303e-01 -3.12500000e-01 -3.22580645e-01\n",
      " -3.33333333e-01 -3.44827586e-01 -3.57142857e-01 -3.70370370e-01\n",
      " -3.84615385e-01 -4.00000000e-01 -4.16666667e-01 -4.34782609e-01\n",
      " -4.54545455e-01 -4.76190476e-01 -5.00000000e-01 -5.26315789e-01\n",
      " -5.55555556e-01 -5.88235294e-01 -6.25000000e-01 -6.66666667e-01\n",
      " -7.14285714e-01 -7.69230769e-01 -8.33333333e-01 -9.09090909e-01\n",
      " -1.00000000e+00 -1.11111111e+00 -1.25000000e+00 -1.42857143e+00\n",
      " -1.66666667e+00 -2.00000000e+00 -2.50000000e+00 -3.33333333e+00\n",
      " -5.00000000e+00 -1.00000000e+01 -3.12749974e+13  1.00000000e+01\n",
      "  5.00000000e+00  3.33333333e+00  2.50000000e+00  2.00000000e+00\n",
      "  1.66666667e+00  1.42857143e+00  1.25000000e+00  1.11111111e+00\n",
      "  1.00000000e+00  9.09090909e-01  8.33333333e-01  7.69230769e-01\n",
      "  7.14285714e-01  6.66666667e-01  6.25000000e-01  5.88235294e-01\n",
      "  5.55555556e-01  5.26315789e-01  5.00000000e-01  4.76190476e-01\n",
      "  4.54545455e-01  4.34782609e-01  4.16666667e-01  4.00000000e-01\n",
      "  3.84615385e-01  3.70370370e-01  3.57142857e-01  3.44827586e-01\n",
      "  3.33333333e-01  3.22580645e-01  3.12500000e-01  3.03030303e-01\n",
      "  2.94117647e-01  2.85714286e-01  2.77777778e-01  2.70270270e-01\n",
      "  2.63157895e-01  2.56410256e-01  2.50000000e-01  2.43902439e-01\n",
      "  2.38095238e-01  2.32558140e-01  2.27272727e-01  2.22222222e-01\n",
      "  2.17391304e-01  2.12765957e-01  2.08333333e-01  2.04081633e-01\n",
      "  2.00000000e-01  1.96078431e-01  1.92307692e-01  1.88679245e-01\n",
      "  1.85185185e-01  1.81818182e-01  1.78571429e-01  1.75438596e-01\n",
      "  1.72413793e-01  1.69491525e-01  1.66666667e-01  1.63934426e-01\n",
      "  1.61290323e-01  1.58730159e-01  1.56250000e-01  1.53846154e-01\n",
      "  1.51515152e-01  1.49253731e-01  1.47058824e-01  1.44927536e-01\n",
      "  1.42857143e-01  1.40845070e-01  1.38888889e-01  1.36986301e-01\n",
      "  1.35135135e-01  1.33333333e-01  1.31578947e-01  1.29870130e-01\n",
      "  1.28205128e-01  1.26582278e-01  1.25000000e-01  1.23456790e-01\n",
      "  1.21951220e-01  1.20481928e-01  1.19047619e-01  1.17647059e-01\n",
      "  1.16279070e-01  1.14942529e-01  1.13636364e-01  1.12359551e-01\n",
      "  1.11111111e-01  1.09890110e-01  1.08695652e-01  1.07526882e-01\n",
      "  1.06382979e-01  1.05263158e-01  1.04166667e-01  1.03092784e-01\n",
      "  1.02040816e-01  1.01010101e-01  1.00000000e-01  9.90099010e-02\n",
      "  9.80392157e-02  9.70873786e-02  9.61538462e-02  9.52380952e-02\n",
      "  9.43396226e-02  9.34579439e-02  9.25925926e-02  9.17431193e-02\n",
      "  9.09090909e-02]\n"
     ]
    }
   ],
   "source": [
    "fl_x = fl(domain)\n",
    "print(fl_x)"
   ]
  },
  {
   "cell_type": "code",
   "execution_count": 10,
   "metadata": {},
   "outputs": [
    {
     "data": {
      "text/markdown": [
       "The denominator is:\n",
       "  ### $d(x) = x + 1$\n",
       "  calculate the solution for the ecuation:\n",
       "  ### $d(x)=0$"
      ],
      "text/plain": [
       "<IPython.core.display.Markdown object>"
      ]
     },
     "execution_count": 10,
     "metadata": {},
     "output_type": "execute_result"
    }
   ],
   "source": [
    "denominator = fs.as_numer_denom()[1]\n",
    "md(\"The denominator is:\\n\\\n",
    "  ### $d(x) = {}$\\n\\\n",
    "  calculate the solution for the ecuation:\\n\\\n",
    "  ### $d(x)=0$\".format(latex(denominator)))"
   ]
  },
  {
   "cell_type": "code",
   "execution_count": 11,
   "metadata": {},
   "outputs": [
    {
     "data": {
      "text/markdown": [
       "The roots are is:\n",
       "  ### $x = \\left[ -1\\right]$\n",
       "In these points are the vertical asymthotes"
      ],
      "text/plain": [
       "<IPython.core.display.Markdown object>"
      ]
     },
     "execution_count": 11,
     "metadata": {},
     "output_type": "execute_result"
    }
   ],
   "source": [
    "# find the vertical asymptotes\n",
    "roots = solve(denominator, x)\n",
    "md(\"The roots are is:\\n\\\n",
    "  ### $x = {}$\\n\\\n",
    "In these points are the vertical asymthotes\".format(latex(roots)))\n"
   ]
  },
  {
   "cell_type": "code",
   "execution_count": 12,
   "metadata": {},
   "outputs": [],
   "source": [
    "\n",
    "for root in roots:\n",
    "    # clean under the aympototes\n",
    "    ax.plot([root,root],[-10,10],color='white', linewidth=4)\n",
    "    # plot the asymptotes\n",
    "    ax.plot([root,root],[-10,10],color='red',linestyle='dashed', linewidth=2)"
   ]
  },
  {
   "cell_type": "code",
   "execution_count": 13,
   "metadata": {},
   "outputs": [
    {
     "ename": "NameError",
     "evalue": "name 'fig' is not defined",
     "output_type": "error",
     "traceback": [
      "\u001b[0;31m---------------------------------------------------------------------------\u001b[0m",
      "\u001b[0;31mNameError\u001b[0m                                 Traceback (most recent call last)",
      "Cell \u001b[0;32mIn[13], line 4\u001b[0m\n\u001b[1;32m      1\u001b[0m ax\u001b[39m.\u001b[39mset_xbound(\u001b[39m-\u001b[39m\u001b[39m10\u001b[39m,\u001b[39m10\u001b[39m)\n\u001b[1;32m      2\u001b[0m ax\u001b[39m.\u001b[39mset_ybound(\u001b[39m-\u001b[39m\u001b[39m10\u001b[39m,\u001b[39m10\u001b[39m)\n\u001b[0;32m----> 4\u001b[0m fig\n",
      "\u001b[0;31mNameError\u001b[0m: name 'fig' is not defined"
     ]
    }
   ],
   "source": [
    "ax.set_xbound(-10,10)\n",
    "ax.set_ybound(-10,10)\n",
    "\n",
    "fig"
   ]
  }
 ],
 "metadata": {
  "kernelspec": {
   "display_name": "Python 3 (ipykernel)",
   "language": "python",
   "name": "python3"
  },
  "language_info": {
   "codemirror_mode": {
    "name": "ipython",
    "version": 3
   },
   "file_extension": ".py",
   "mimetype": "text/x-python",
   "name": "python",
   "nbconvert_exporter": "python",
   "pygments_lexer": "ipython3",
   "version": "3.10.6"
  },
  "orig_nbformat": 4
 },
 "nbformat": 4,
 "nbformat_minor": 2
}
