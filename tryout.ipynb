{
 "cells": [
  {
   "attachments": {},
   "cell_type": "markdown",
   "metadata": {},
   "source": [
    "<style>\n",
    "r { color: Red }\n",
    "o { color: Orange }\n",
    "g { color: Green }\n",
    "</style>\n",
    "# <r>Tryouts</r>\n"
   ]
  },
  {
   "cell_type": "code",
   "execution_count": null,
   "metadata": {},
   "outputs": [],
   "source": [
    "%matplotlib ipympl\n",
    "\n",
    "# import the necessary libraries\n",
    "import matplotlib.pyplot as plt\n",
    "import numpy as np\n",
    "# from sympy.abc import x\n",
    "from sympy import *\n",
    "from IPython.display import Markdown as md\n",
    "\n",
    "x = Symbol('x')"
   ]
  },
  {
   "attachments": {},
   "cell_type": "markdown",
   "metadata": {},
   "source": [
    "<style>\n",
    "r { color: Red }\n",
    "o { color: Orange }\n",
    "g { color: Green }\n",
    "</style>\n",
    "## <r>Define the function</r>"
   ]
  },
  {
   "cell_type": "code",
   "execution_count": null,
   "metadata": {},
   "outputs": [],
   "source": [
    "functionString = \"x**2*cos(1/x**2)+1\"  # edit the function here\n",
    "# parse the function string into a sympy expression\n",
    "f = parse_expr(functionString, evaluate=false) \n",
    "md(\"Original function: \\n\\\n",
    "   ### $f(x) = {}$\".format(latex(f)))"
   ]
  },
  {
   "cell_type": "markdown",
   "metadata": {},
   "source": []
  },
  {
   "attachments": {},
   "cell_type": "markdown",
   "metadata": {},
   "source": [
    "<style>\n",
    "r { color: Red }\n",
    "o { color: Orange }\n",
    "g { color: Green }\n",
    "</style>\n",
    "## <r>Define the Function Domain</r>\n",
    "Define the start point, end point and the number of points to plot.<br>\n",
    "\n",
    "- <r>startPoint</r> - the start point of the domain\n",
    "- <r>endPoint</r> - the start point of the domain\n",
    "- <r>step</r> - the difference between each point"
   ]
  },
  {
   "cell_type": "code",
   "execution_count": null,
   "metadata": {},
   "outputs": [],
   "source": [
    "startPoint = -pi/4  # edit here to change the start point\n",
    "endPoint = pi/4    # edit here to change the end point\n",
    "step = 0.001       # edit resolution of the graph\n",
    "\n",
    "\n",
    "# calculate the domain\n",
    "domain = np.arange(startPoint, endPoint + step, step)\n",
    "domain = np.array(domain, dtype=np.float64) # convert to float64\n",
    "# display the domain\n",
    "domain"
   ]
  },
  {
   "attachments": {},
   "cell_type": "markdown",
   "metadata": {},
   "source": [
    "### Simplify the function"
   ]
  },
  {
   "cell_type": "code",
   "execution_count": null,
   "metadata": {},
   "outputs": [],
   "source": [
    "# simplify the function\n",
    "fs = simplify(f)\n",
    "# lambdify the function\n",
    "fl = lambdify(x, fs)\n",
    "md(\"The simplified function is: \\n\\\n",
    "  ### $f(x) = {}$\".format(latex(fs)))"
   ]
  },
  {
   "attachments": {},
   "cell_type": "markdown",
   "metadata": {},
   "source": [
    "### Apply the function to the domain"
   ]
  },
  {
   "cell_type": "code",
   "execution_count": null,
   "metadata": {},
   "outputs": [],
   "source": [
    "fl_x = fl(domain)\n",
    "print(fl_x)"
   ]
  },
  {
   "attachments": {},
   "cell_type": "markdown",
   "metadata": {},
   "source": [
    "### Format the Cartesian Coordinate System\n",
    "\n"
   ]
  },
  {
   "cell_type": "code",
   "execution_count": null,
   "metadata": {},
   "outputs": [],
   "source": [
    "%%capture\n",
    "fig, ax = plt.subplots()\n",
    "\n",
    "ax.xaxis.set_ticks_position('bottom')\n",
    "ax.set_xlabel('x', loc='right', color=\"red\")\n",
    "\n",
    "ax.set_ylabel('y', loc='top', rotation='horizontal', color=\"red\")\n",
    "ax.yaxis.set_ticks_position('left') \n",
    "\n",
    "ax.spines['left'].set_position('zero')\n",
    "ax.spines['right'].set_color('none') \n",
    "ax.spines['bottom'].set_position('zero')\n",
    "ax.spines['top'].set_color('none') "
   ]
  },
  {
   "attachments": {},
   "cell_type": "markdown",
   "metadata": {},
   "source": [
    "### Plot the function"
   ]
  },
  {
   "cell_type": "code",
   "execution_count": null,
   "metadata": {},
   "outputs": [],
   "source": [
    "ax.plot(domain, fl(domain))"
   ]
  },
  {
   "attachments": {},
   "cell_type": "markdown",
   "metadata": {},
   "source": [
    "## Find out the vertical asymptotes"
   ]
  },
  {
   "attachments": {},
   "cell_type": "markdown",
   "metadata": {},
   "source": [
    "### Calculate the roots of the denominator"
   ]
  },
  {
   "cell_type": "code",
   "execution_count": null,
   "metadata": {},
   "outputs": [],
   "source": [
    "# find out the denominator\n",
    "denominator = fs.as_numer_denom()[1]\n",
    "# find out the roots of the denominator ecuation\n",
    "roots = solve(denominator, x)\n",
    "md(\"The roots are is:\\n\\\n",
    "  ### $x = {}$\\n\\\n",
    "In these points are the vertical asymthotes\".format(latex(roots)))\n",
    "\n",
    "md(\"The denominator is:\\n\\\n",
    "  ### $d(x) = {}$\\n\\\n",
    "  calculate the solution for the ecuation:\\n\\\n",
    "  ### $d(x)=0$\\n\\\n",
    "  The roots are:\\n\\\n",
    "  ### $x = {}$\\n\\\n",
    "  \".format(latex(denominator), latex(roots)))"
   ]
  },
  {
   "attachments": {},
   "cell_type": "markdown",
   "metadata": {},
   "source": [
    "### Plot the aympototes\n",
    "Plot the asymptotes on the graph for the roots of the denominator which are real numbers."
   ]
  },
  {
   "cell_type": "code",
   "execution_count": null,
   "metadata": {},
   "outputs": [],
   "source": [
    "for root in roots:\n",
    "    # check if root is a real number\n",
    "    if(not root.is_real):\n",
    "        continue\n",
    "    # clean under the aympototes\n",
    "    ax.plot([root,root],[-10000,10000],color='white', linewidth=5)\n",
    "    # plot the asymptotes\n",
    "    ax.plot([root,root],[-10000,10000],color='red',linestyle='dashed', linewidth=1)"
   ]
  },
  {
   "attachments": {},
   "cell_type": "markdown",
   "metadata": {},
   "source": [
    "## Find out the horizontal asymptotes and plot them"
   ]
  },
  {
   "attachments": {},
   "cell_type": "markdown",
   "metadata": {},
   "source": [
    "FInd out the limit of the function as x approaches infinity. This is the horizontal asymptote."
   ]
  },
  {
   "cell_type": "code",
   "execution_count": null,
   "metadata": {},
   "outputs": [],
   "source": [
    "l_plus_infinity = limit(fs, x, oo)\n",
    "## check for the type of the limit\n",
    "if(l_plus_infinity == oo or l_plus_infinity == -oo):\n",
    "  pass\n",
    "elif(l_plus_infinity == None):\n",
    "  pass\n",
    "elif(l_plus_infinity.is_number == False):\n",
    "  # check if the limit is an AccumBounds - like sinus function\n",
    "  pass\n",
    "else:\n",
    "  print(\"The limit is a finite number, so the horizontal asymptote is y = {}\".format(l_plus_infinity))\n",
    "  plt.plot([-10000,+10000],[l_plus_infinity,l_plus_infinity],color='red',linestyle='dashed', linewidth=1)\n",
    "  \n",
    "# try to find the limit of the function at negative infinity   \n",
    "l_minus_infinity = limit(fs, x, -oo)\n",
    "if(l_minus_infinity == oo or l_minus_infinity == -oo):\n",
    "  pass\n",
    "elif(l_minus_infinity == None):\n",
    "  pass\n",
    "elif(l_minus_infinity.is_number == False): \n",
    "  # check if the limit is an AccumBounds - like sinus function\n",
    "  pass\n",
    "else:\n",
    "  print(\"The limit is a finite number, so the horizontal asymptote is y = {}\".format(l_minus_infinity))\n",
    "  plt.plot([-10000+10000],[l_minus_infinity,l_minus_infinity],color='red',linestyle='dashed', linewidth=1)"
   ]
  },
  {
   "attachments": {},
   "cell_type": "markdown",
   "metadata": {},
   "source": [
    "<style>\n",
    "r { color: Red }\n",
    "o { color: Orange }\n",
    "g { color: Green }\n",
    "</style>\n",
    "## <r>Zoom and Aspect Ratio</r>\n",
    "Adjust the zoom and aspect ratio of the graph."
   ]
  },
  {
   "cell_type": "code",
   "execution_count": null,
   "metadata": {},
   "outputs": [],
   "source": [
    "ax.set_xbound(int(-pi/2),int(pi/2))\n",
    "ax.set_ybound(0.75,1.25)\n",
    "\n",
    "# show the plot\n",
    "fig"
   ]
  }
 ],
 "metadata": {
  "kernelspec": {
   "display_name": "Python 3 (ipykernel)",
   "language": "python",
   "name": "python3"
  },
  "language_info": {
   "codemirror_mode": {
    "name": "ipython",
    "version": 3
   },
   "file_extension": ".py",
   "mimetype": "text/x-python",
   "name": "python",
   "nbconvert_exporter": "python",
   "pygments_lexer": "ipython3",
   "version": "3.10.6"
  },
  "orig_nbformat": 4
 },
 "nbformat": 4,
 "nbformat_minor": 2
}
