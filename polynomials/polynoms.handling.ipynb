{
 "cells": [
  {
   "attachments": {},
   "cell_type": "markdown",
   "metadata": {},
   "source": [
    "# Polynoms Handling"
   ]
  },
  {
   "cell_type": "code",
   "execution_count": null,
   "metadata": {},
   "outputs": [
    {
     "name": "stdout",
     "output_type": "stream",
     "text": [
      "Collecting termcolor\n",
      "  Downloading termcolor-3.1.0-py3-none-any.whl.metadata (6.4 kB)\n",
      "Downloading termcolor-3.1.0-py3-none-any.whl (7.7 kB)\n",
      "Installing collected packages: termcolor\n",
      "Successfully installed termcolor-3.1.0\n",
      "Note: you may need to restart the kernel to use updated packages.\n",
      "Requirement already satisfied: sympy in /home/devlh/.venv/lib/python3.12/site-packages (1.14.0)\n",
      "Requirement already satisfied: mpmath<1.4,>=1.1.0 in /home/devlh/.venv/lib/python3.12/site-packages (from sympy) (1.3.0)\n",
      "Note: you may need to restart the kernel to use updated packages.\n"
     ]
    }
   ],
   "source": [
    "# install some dependencies\n",
    "%pip install termcolor\n",
    "# sympy is used for symbolic mathematics\n",
    "%pip install sympy"
   ]
  },
  {
   "cell_type": "code",
   "execution_count": 2,
   "metadata": {},
   "outputs": [],
   "source": [
    "from sympy import *\n",
    "from IPython.display import Markdown as md\n",
    "from termcolor import colored"
   ]
  },
  {
   "attachments": {},
   "cell_type": "markdown",
   "metadata": {},
   "source": [
    "## Create the varaibles"
   ]
  },
  {
   "cell_type": "code",
   "execution_count": 3,
   "metadata": {},
   "outputs": [],
   "source": [
    "# Create a symbolic variable x\n",
    "x = Symbol('x')"
   ]
  },
  {
   "attachments": {},
   "cell_type": "markdown",
   "metadata": {},
   "source": [
    "<style>\n",
    "r { color: Red }\n",
    "o { color: Orange }\n",
    "g { color: Green }\n",
    "</style>\n",
    "\n",
    "## <r>Input the polynomial</r>"
   ]
  },
  {
   "cell_type": "code",
   "execution_count": 4,
   "metadata": {},
   "outputs": [
    {
     "data": {
      "text/markdown": [
       "### introduced polynomial: \n",
       "  ## $p = x^{2} + 2 x + 1$"
      ],
      "text/plain": [
       "<IPython.core.display.Markdown object>"
      ]
     },
     "execution_count": 4,
     "metadata": {},
     "output_type": "execute_result"
    }
   ],
   "source": [
    "\n",
    "p =  x**2 + 2*x + 1\n",
    "\n",
    "# print('introduced polynomial: {}'.format(p)) # debug\n",
    "\n",
    "md('### introduced polynomial: \\n\\\n",
    "  ## $p = {}$'.format(latex(p)))\n",
    "\n"
   ]
  },
  {
   "attachments": {},
   "cell_type": "markdown",
   "metadata": {},
   "source": [
    "## Factorization"
   ]
  },
  {
   "cell_type": "code",
   "execution_count": 5,
   "metadata": {},
   "outputs": [
    {
     "data": {
      "text/markdown": [
       "### factorized polynomial: \n",
       "  ## $pf = \\left(x + 1\\right)^{2}$"
      ],
      "text/plain": [
       "<IPython.core.display.Markdown object>"
      ]
     },
     "execution_count": 5,
     "metadata": {},
     "output_type": "execute_result"
    }
   ],
   "source": [
    "\n",
    "# factorize the polynomial\n",
    "pf = factor(p)\n",
    "# print('factorized polynomial: {}'.format(pf)) # debug\n",
    "if(pf == p):\n",
    "  print( colored ('NOTE:', 'red'), 'Polynomial is already factorized. Nothing to do.')\n",
    "\n",
    "md('### factorized polynomial: \\n\\\n",
    "  ## $pf = {}$'.format(latex(pf)))"
   ]
  },
  {
   "attachments": {},
   "cell_type": "markdown",
   "metadata": {},
   "source": [
    "## Expansion"
   ]
  },
  {
   "cell_type": "code",
   "execution_count": 6,
   "metadata": {},
   "outputs": [
    {
     "name": "stdout",
     "output_type": "stream",
     "text": [
      "\u001b[31mNOTE:\u001b[0m Polynomial is already expanded. Nothing to do.\n"
     ]
    },
    {
     "data": {
      "text/markdown": [
       "### expanded polynomial: \n",
       "  ## $pe = x^{2} + 2 x + 1$"
      ],
      "text/plain": [
       "<IPython.core.display.Markdown object>"
      ]
     },
     "execution_count": 6,
     "metadata": {},
     "output_type": "execute_result"
    }
   ],
   "source": [
    "# expand the polynomial\n",
    "pe = expand(p)\n",
    "# print('expanded polynomial: {}'.format(pe)) # debug\n",
    "if (pe == p):\n",
    "  print( colored ('NOTE:', 'red'), 'Polynomial is already expanded. Nothing to do.')\n",
    "  \n",
    "md('### expanded polynomial: \\n\\\n",
    "  ## $pe = {}$'.format(latex(pe)))"
   ]
  }
 ],
 "metadata": {
  "kernelspec": {
   "display_name": "Python (venv)",
   "language": "python",
   "name": "venv"
  },
  "language_info": {
   "codemirror_mode": {
    "name": "ipython",
    "version": 3
   },
   "file_extension": ".py",
   "mimetype": "text/x-python",
   "name": "python",
   "nbconvert_exporter": "python",
   "pygments_lexer": "ipython3",
   "version": "3.12.3"
  },
  "orig_nbformat": 4
 },
 "nbformat": 4,
 "nbformat_minor": 2
}
