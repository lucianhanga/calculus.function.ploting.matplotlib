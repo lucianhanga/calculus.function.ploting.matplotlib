{
 "cells": [
  {
   "attachments": {},
   "cell_type": "markdown",
   "metadata": {},
   "source": [
    "# Polynoms Handling"
   ]
  },
  {
   "attachments": {},
   "cell_type": "markdown",
   "metadata": {},
   "source": [
    "# install some dependencies\n",
    "!pip install termcolor\n",
    "!pip install sympy"
   ]
  },
  {
   "cell_type": "code",
   "execution_count": 24,
   "metadata": {
    "vscode": {
     "languageId": "python"
    }
   },
   "outputs": [],
   "source": [
    "import sympy as sp\n",
    "from IPython.display import Markdown as md\n",
    "from termcolor import colored"
   ]
  },
  {
   "attachments": {},
   "cell_type": "markdown",
   "metadata": {},
   "source": [
    "## Create the varaibles"
   ]
  },
  {
   "cell_type": "code",
   "execution_count": 25,
   "metadata": {
    "vscode": {
     "languageId": "python"
    }
   },
   "outputs": [],
   "source": [
    "# Create a symbolic variable x\n",
    "x = sp.Symbol('x')"
   ]
  },
  {
   "attachments": {},
   "cell_type": "markdown",
   "metadata": {},
   "source": [
    "<style>\n",
    "r { color: Red }\n",
    "o { color: Orange }\n",
    "g { color: Green }\n",
    "</style>\n",
    "\n",
    "## <r>Input the polynomial</r>"
   ]
  },
  {
   "cell_type": "code",
   "execution_count": 26,
   "metadata": {
    "vscode": {
     "languageId": "python"
    }
   },
   "outputs": [
    {
     "data": {
      "text/markdown": [
       "### introduced polynomial: \n",
       "  ## $p = x^{3} - 1$"
      ],
      "text/plain": [
       "<IPython.core.display.Markdown object>"
      ]
     },
     "execution_count": 26,
     "metadata": {},
     "output_type": "execute_result"
    }
   ],
   "source": [
    "\n",
    "p = x**3-1\n",
    "\n",
    "# print('introduced polynomial: {}'.format(p)) # debug\n",
    "\n",
    "md('### introduced polynomial: \\n\\\n",
    "  ## $p = {}$'.format(sp.latex(p)))\n",
    "\n"
   ]
  },
  {
   "attachments": {},
   "cell_type": "markdown",
   "metadata": {},
   "source": [
    "## Factorization"
   ]
  },
  {
   "cell_type": "code",
   "execution_count": 27,
   "metadata": {
    "vscode": {
     "languageId": "python"
    }
   },
   "outputs": [
    {
     "data": {
      "text/markdown": [
       "### expanded polynomial: \n",
       "  ## $pf = \\left(x - 1\\right) \\left(x^{2} + x + 1\\right)$"
      ],
      "text/plain": [
       "<IPython.core.display.Markdown object>"
      ]
     },
     "execution_count": 27,
     "metadata": {},
     "output_type": "execute_result"
    }
   ],
   "source": [
    "\n",
    "# factorize the polynomial\n",
    "pf = sp.factor(p)\n",
    "# print('factorized polynomial: {}'.format(pf)) # debug\n",
    "if(pf == p):\n",
    "  print( colored ('NOTE:', 'red'), 'Polynomial is already factorized. Nothing to do.')\n",
    "\n",
    "md('### expanded polynomial: \\n\\\n",
    "  ## $pf = {}$'.format(sp.latex(pf)))"
   ]
  },
  {
   "attachments": {},
   "cell_type": "markdown",
   "metadata": {},
   "source": [
    "## Expansion"
   ]
  },
  {
   "cell_type": "code",
   "execution_count": 28,
   "metadata": {
    "vscode": {
     "languageId": "python"
    }
   },
   "outputs": [
    {
     "name": "stdout",
     "output_type": "stream",
     "text": [
      "\u001b[31mNOTE:\u001b[0m Polynomial is already expanded. Nothing to do.\n"
     ]
    },
    {
     "data": {
      "text/markdown": [
       "### expanded polynomial: \n",
       "  ## $pe = x^{3} - 1$"
      ],
      "text/plain": [
       "<IPython.core.display.Markdown object>"
      ]
     },
     "execution_count": 28,
     "metadata": {},
     "output_type": "execute_result"
    }
   ],
   "source": [
    "# expand the polynomial\n",
    "pe = sp.expand(p)\n",
    "# print('expanded polynomial: {}'.format(pe)) # debug\n",
    "if (pe == p):\n",
    "  print( colored ('NOTE:', 'red'), 'Polynomial is already expanded. Nothing to do.')\n",
    "  \n",
    "md('### expanded polynomial: \\n\\\n",
    "  ## $pe = {}$'.format(sp.latex(pe)))"
   ]
  }
 ],
 "metadata": {
  "kernelspec": {
   "display_name": "Python 3 (ipykernel)",
   "language": "python",
   "name": "python3"
  },
  "orig_nbformat": 4
 },
 "nbformat": 4,
 "nbformat_minor": 2
}
