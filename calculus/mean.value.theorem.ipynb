{
 "cells": [
  {
   "cell_type": "markdown",
   "id": "2decfbfb",
   "metadata": {},
   "source": [
    "<style>\n",
    "r { color: Red }\n",
    "o { color: Orange }\n",
    "g { color: Green }\n",
    "</style>\n",
    "# <r>Mean Value</r> Theorem\n",
    "\n",
    "If a function is continuous on the closed interval $ [a, b] $ and differentiable on the open interval $ (a, b) $, then there exists at least one point $ c $ in  $ (a, b) $ such that:\n",
    "\n",
    "$ f'(c) = \\frac{f(b) - f(a)}{b - a} $\n",
    "\n",
    "This theorem essentially states that there is at least one point in the interval where the instantaneous rate of change (the derivative) equals the average rate of change over the interval.\n",
    "\n",
    "Or, in other words, there exists a point $ c $ in $ (a, b) $ such that the tangent line at that point is parallel to the secant line connecting the endpoints of the interval."
   ]
  },
  {
   "cell_type": "code",
   "execution_count": null,
   "id": "3e14f1a0",
   "metadata": {},
   "outputs": [],
   "source": [
    "# Let's first check what matplotlib backends are available\n",
    "import matplotlib\n",
    "print(\"Current backend:\", matplotlib.get_backend())\n",
    "\n",
    "# Use widget backend for interactive plots in notebooks (works in headless environments)\n",
    "%matplotlib widget\n",
    "\n",
    "# import the necessary libraries\n",
    "import matplotlib.pyplot as plt # plotting library\n",
    "import numpy as np # numerical operations\n",
    "import sympy as sp # symbolic mathematics\n",
    "from sympy import symbols, lambdify, diff, simplify, parse_expr, latex\n",
    "from IPython.display import display, Markdown as md # for displaying Markdown\n",
    "\n",
    "print(\"Successfully set widget backend for interactive plotting!\")\n",
    "print(\"New backend:\", matplotlib.get_backend())\n",
    "print(\"Figures will be interactive within the notebook.\")"
   ]
  },
  {
   "cell_type": "markdown",
   "id": "9fd51ac3",
   "metadata": {},
   "source": [
    "<style>\n",
    "r { color: Red }\n",
    "o { color: Orange }\n",
    "g { color: Green }\n",
    "</style>\n",
    "\n",
    "## Define the function and the interval\n",
    "\n",
    "In this section, we will define the function we want to analyze and the interval over which we will apply the Mean Value Theorem.\n",
    "\n",
    "- <r>functionString</r> is the function we want to analyze. Modify this string to change the function. \n",
    "- $[ a, b ]$ is the interval we are interested in.\n",
    "- <r>a</r> and <r>b</r> are the endpoints of the interval. Modify these values to change the interval.\n"
   ]
  },
  {
   "cell_type": "code",
   "execution_count": null,
   "id": "c7a48d2b",
   "metadata": {},
   "outputs": [],
   "source": [
    "functionString = \"3*x**2 + 6*x - 5\"\n",
    "\n",
    "# define the interval\n",
    "a = -2\n",
    "b = 1\n"
   ]
  },
  {
   "cell_type": "markdown",
   "id": "f48bac5d",
   "metadata": {},
   "source": [
    "### Process the function string and the interval"
   ]
  },
  {
   "cell_type": "code",
   "execution_count": null,
   "id": "d5805531",
   "metadata": {},
   "outputs": [],
   "source": [
    "\n",
    "# parse the function string to a sympy expression\n",
    "f = parse_expr(functionString, evaluate=False)\n",
    "\n",
    "# Create the styled markdown with proper CSS\n",
    "style_css = \"\"\"\n",
    "<style>\n",
    "r { color: Red }\n",
    "o { color: Orange }\n",
    "g { color: Green }\n",
    "</style>\n",
    "\"\"\"\n",
    "\n",
    "function_display = \"### <r> $ f(x) = {} $ </r>\".format(latex(f))\n",
    "interval_display = \"### Interval: <r> [ {}, {} ] </r>\".format(a, b)\n",
    "\n",
    "md(style_css + \n",
    "   function_display + \n",
    "   # new line\n",
    "    \"\\n\" +\n",
    "   interval_display)"
   ]
  },
  {
   "cell_type": "markdown",
   "id": "2e370227",
   "metadata": {},
   "source": [
    "### Simplify the function\n",
    "\n",
    "In this section the function is simplified to make it easier to work with."
   ]
  },
  {
   "cell_type": "code",
   "execution_count": null,
   "id": "e365e712",
   "metadata": {},
   "outputs": [],
   "source": [
    "# simplify the function\n",
    "f_simplified = simplify(f)\n",
    "print(\"Original function:\", f)\n",
    "print(\"Simplified function:\", f_simplified)\n",
    "# check if the function is simplified\n",
    "if f_simplified == f:\n",
    "    md(\"### The function is already simplified: <r> $ f(x) = {} $ </r>\".format(latex(f_simplified)))\n",
    "else:\n",
    "    md(\"### The function has been simplified: <r> $ f(x) = {} $ </r>\".format(latex(f_simplified)))"
   ]
  },
  {
   "cell_type": "markdown",
   "id": "cf8fe340",
   "metadata": {},
   "source": [
    "## Plot the function and highlight the interval"
   ]
  },
  {
   "cell_type": "code",
   "execution_count": null,
   "id": "98a34ab2",
   "metadata": {},
   "outputs": [],
   "source": [
    "%%capture domain_output\n",
    "# define the domain for plotting\n",
    "startPoint = a - 1\n",
    "endPoint = b + 1\n",
    "step = 0.001\n",
    "domain = np.arange(startPoint, endPoint, step)\n",
    "domain = np.array(domain, dtype=np.float64)\n",
    "# domain should have only 3 decimal places\n",
    "domain = np.round(domain, 3)\n",
    "\n",
    "# display the domain\n",
    "print(\"x:\", domain)\n",
    "# print(f\"Domain has {len(domain)} points\")\n",
    "# print(f\"Domain range: {domain[0]} to {domain[-1]}\")\n",
    "\n",
    "# simplify the function\n",
    "fs = simplify(f)\n",
    "# define x as a symbol\n",
    "x = symbols('x')\n",
    "# lamdify the function for numerical evaluation\n",
    "fl = lambdify(x, fs, modules='numpy')\n",
    "\n",
    "# calculate the y values for the function\n",
    "y = fl(domain)\n",
    "# y should have only 3 decimal places\n",
    "y = np.round(y, 3)\n",
    "print(\"y:\", y)\n"
   ]
  },
  {
   "cell_type": "code",
   "execution_count": null,
   "id": "063b0501",
   "metadata": {},
   "outputs": [],
   "source": [
    "print(domain_output.stdout)"
   ]
  },
  {
   "cell_type": "code",
   "execution_count": null,
   "id": "cdb12258",
   "metadata": {},
   "outputs": [],
   "source": [
    "%%capture plot_output\n",
    "fig, ax = plt.subplots()\n",
    "# set the size of the figure in something other than inches\n",
    "fig.set_size_inches(5, 3)\n",
    "\n",
    "\n",
    "ax.xaxis.set_ticks_position('bottom')\n",
    "ax.set_xlabel('x', loc='right', color=\"red\")\n",
    "\n",
    "ax.set_ylabel('y', loc='top', rotation='horizontal', color=\"red\")\n",
    "ax.yaxis.set_ticks_position('left') \n",
    "\n",
    "# Position axes through the origin (0,0) to center the coordinate system\n",
    "ax.spines['left'].set_position('zero')\n",
    "ax.spines['right'].set_color('none') \n",
    "ax.spines['bottom'].set_position('zero')\n",
    "ax.spines['top'].set_color('none')\n",
    "\n",
    "# Set axis limits to center the coordinate system properly\n",
    "x_min, x_max = domain.min(), domain.max()\n",
    "y_min, y_max = y.min(), y.max()\n",
    "\n",
    "# Add padding around the data\n",
    "x_padding = (x_max - x_min) * 0.1\n",
    "y_padding = (y_max - y_min) * 0.1\n",
    "\n",
    "ax.set_xlim(x_min - x_padding, x_max + x_padding)\n",
    "ax.set_ylim(y_min - y_padding, y_max + y_padding)\n",
    "\n",
    "# Add grid for better visualization\n",
    "ax.grid(True, alpha=0.1)\n"
   ]
  },
  {
   "cell_type": "code",
   "execution_count": null,
   "id": "f8ce3ae6",
   "metadata": {},
   "outputs": [],
   "source": [
    "# Display the figure to make it sticky and interactive\n",
    "display(fig)"
   ]
  },
  {
   "cell_type": "code",
   "execution_count": null,
   "id": "738a08e3",
   "metadata": {},
   "outputs": [],
   "source": [
    "# Plot the function\n",
    "# b- is the color blue, linewidth is 2\n",
    "ax.plot(domain, y, 'b-', linewidth=2, label='f(x)')\n",
    "\n",
    "# Display figure to keep it visible\n",
    "display(fig)"
   ]
  },
  {
   "cell_type": "code",
   "execution_count": null,
   "id": "4defadcb",
   "metadata": {},
   "outputs": [],
   "source": [
    "# Highlight the interval [a, b]\n",
    "ax.axvline(x=a, color='orange', linestyle='--', alpha=0.7, label=f'x = {a}')\n",
    "ax.axvline(x=b, color='orange', linestyle='--', alpha=0.7, label=f'x = {b}')\n",
    "\n",
    "# Display figure to keep it visible\n",
    "display(fig)\n"
   ]
  },
  {
   "cell_type": "code",
   "execution_count": null,
   "id": "3835b6e6",
   "metadata": {},
   "outputs": [],
   "source": [
    "# plot the secant line endpoints\n",
    "ax.plot([a, b], [fl(a), fl(b)], 'ro-', markersize=5, label='Secant Line')  # Red line with red circles\n",
    "\n",
    "# Display figure to keep it visible\n",
    "display(fig)"
   ]
  },
  {
   "cell_type": "code",
   "execution_count": null,
   "id": "02f79564",
   "metadata": {},
   "outputs": [],
   "source": [
    "# compute the derivative of the function\n",
    "f_prime = diff(f, x)\n",
    "# simplify the derivative\n",
    "f_prime_simplified = simplify(f_prime)\n",
    "# Figure updates automatically with widget backend\n",
    "print(f\"f'(x) = {f_prime_simplified}\")"
   ]
  },
  {
   "cell_type": "code",
   "execution_count": null,
   "id": "0923ad06",
   "metadata": {},
   "outputs": [],
   "source": [
    "# find out the x for which the theorem is satisfied\n",
    "# create an equation for the Mean Value Theorem\n",
    "mean_value_eq = sp.Eq(f_prime_simplified, (fl(b) - fl(a)) / (b - a))\n",
    "# solve the equation for x\n",
    "x_solution = sp.solve(mean_value_eq, x)\n",
    "# display the solution\n",
    "print(f\"Solution for x: {x_solution}\")"
   ]
  },
  {
   "cell_type": "code",
   "execution_count": null,
   "id": "f9a8aa7a",
   "metadata": {},
   "outputs": [],
   "source": [
    "# plot the tangent line at the point x_solution\n",
    "if x_solution:\n",
    "    x_solution_value = x_solution[0]\n",
    "    y_solution_value = fl(x_solution_value)\n",
    "    slope = f_prime_simplified.subs(x, x_solution_value)\n",
    "    \n",
    "    # Calculate the tangent line points\n",
    "    tangent_line_y = slope * (domain - x_solution_value) + y_solution_value\n",
    "    \n",
    "    # Plot the tangent line\n",
    "    ax.plot(domain, tangent_line_y, 'g--', label='Tangent Line', linewidth=2)\n",
    "    \n",
    "    # Mark the point of tangency\n",
    "    ax.plot(x_solution_value, y_solution_value, 'go', markersize=8, label='Point of Tangency')\n",
    "    \n",
    "    # Add legend to show all plotted elements\n",
    "    # ax.legend()\n",
    "    \n",
    "    # Display figure to keep it visible\n",
    "    display(fig)"
   ]
  },
  {
   "cell_type": "code",
   "execution_count": null,
   "id": "30b7c401",
   "metadata": {},
   "outputs": [],
   "source": [
    "# adjust the zoom and aspect ratio\n",
    "ax.set_xbound(-5, 5)\n",
    "ax.set_ybound(-20, 20)\n",
    "\n",
    "# Display final figure\n",
    "display(fig)"
   ]
  }
 ],
 "metadata": {
  "kernelspec": {
   "display_name": "Python (venv)",
   "language": "python",
   "name": "venv"
  },
  "language_info": {
   "codemirror_mode": {
    "name": "ipython",
    "version": 3
   },
   "file_extension": ".py",
   "mimetype": "text/x-python",
   "name": "python",
   "nbconvert_exporter": "python",
   "pygments_lexer": "ipython3",
   "version": "3.12.3"
  }
 },
 "nbformat": 4,
 "nbformat_minor": 5
}
