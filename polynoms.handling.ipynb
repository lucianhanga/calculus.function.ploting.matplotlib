{
 "cells": [
  {
   "attachments": {},
   "cell_type": "markdown",
   "metadata": {},
   "source": [
    "# Polynoms Handling"
   ]
  },
  {
   "cell_type": "code",
   "execution_count": null,
   "metadata": {},
   "outputs": [],
   "source": [
    "# install some dependencies\n",
    "%pip install termcolor\n",
    "%pip install sympy"
   ]
  },
  {
   "cell_type": "code",
   "execution_count": null,
   "metadata": {},
   "outputs": [],
   "source": [
    "from sympy import *\n",
    "from IPython.display import Markdown as md\n",
    "from termcolor import colored"
   ]
  },
  {
   "attachments": {},
   "cell_type": "markdown",
   "metadata": {},
   "source": [
    "## Create the varaibles"
   ]
  },
  {
   "cell_type": "code",
   "execution_count": null,
   "metadata": {},
   "outputs": [],
   "source": [
    "# Create a symbolic variable x\n",
    "x = Symbol('x')"
   ]
  },
  {
   "attachments": {},
   "cell_type": "markdown",
   "metadata": {},
   "source": [
    "<style>\n",
    "r { color: Red }\n",
    "o { color: Orange }\n",
    "g { color: Green }\n",
    "</style>\n",
    "\n",
    "## <r>Input the polynomial</r>"
   ]
  },
  {
   "cell_type": "code",
   "execution_count": null,
   "metadata": {},
   "outputs": [],
   "source": [
    "\n",
    "p =  x**2 + 2*x + 1\n",
    "\n",
    "# print('introduced polynomial: {}'.format(p)) # debug\n",
    "\n",
    "md('### introduced polynomial: \\n\\\n",
    "  ## $p = {}$'.format(latex(p)))\n",
    "\n"
   ]
  },
  {
   "attachments": {},
   "cell_type": "markdown",
   "metadata": {},
   "source": [
    "## Factorization"
   ]
  },
  {
   "cell_type": "code",
   "execution_count": null,
   "metadata": {},
   "outputs": [],
   "source": [
    "\n",
    "# factorize the polynomial\n",
    "pf = factor(p)\n",
    "# print('factorized polynomial: {}'.format(pf)) # debug\n",
    "if(pf == p):\n",
    "  print( colored ('NOTE:', 'red'), 'Polynomial is already factorized. Nothing to do.')\n",
    "\n",
    "md('### factorized polynomial: \\n\\\n",
    "  ## $pf = {}$'.format(latex(pf)))"
   ]
  },
  {
   "attachments": {},
   "cell_type": "markdown",
   "metadata": {},
   "source": [
    "## Expansion"
   ]
  },
  {
   "cell_type": "code",
   "execution_count": null,
   "metadata": {},
   "outputs": [],
   "source": [
    "# expand the polynomial\n",
    "pe = expand(p)\n",
    "# print('expanded polynomial: {}'.format(pe)) # debug\n",
    "if (pe == p):\n",
    "  print( colored ('NOTE:', 'red'), 'Polynomial is already expanded. Nothing to do.')\n",
    "  \n",
    "md('### expanded polynomial: \\n\\\n",
    "  ## $pe = {}$'.format(latex(pe)))"
   ]
  }
 ],
 "metadata": {
  "kernelspec": {
   "display_name": "Python 3 (ipykernel)",
   "language": "python",
   "name": "python3"
  },
  "language_info": {
   "codemirror_mode": {
    "name": "ipython",
    "version": 3
   },
   "file_extension": ".py",
   "mimetype": "text/x-python",
   "name": "python",
   "nbconvert_exporter": "python",
   "pygments_lexer": "ipython3",
   "version": "3.10.6"
  },
  "orig_nbformat": 4
 },
 "nbformat": 4,
 "nbformat_minor": 2
}
